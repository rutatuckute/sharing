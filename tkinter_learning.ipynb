{
 "metadata": {
  "language_info": {
   "codemirror_mode": {
    "name": "ipython",
    "version": 3
   },
   "file_extension": ".py",
   "mimetype": "text/x-python",
   "name": "python",
   "nbconvert_exporter": "python",
   "pygments_lexer": "ipython3",
   "version": "3.7.6-final"
  },
  "orig_nbformat": 2,
  "kernelspec": {
   "name": "Python 3.7.6 64-bit ('base': conda)",
   "display_name": "Python 3.7.6 64-bit ('base': conda)",
   "metadata": {
    "interpreter": {
     "hash": "158afb8312857c56fb3940ebd9127f057d7874392f0a1978ec4f5116571a1893"
    }
   }
  }
 },
 "nbformat": 4,
 "nbformat_minor": 2,
 "cells": [
  {
   "cell_type": "code",
   "execution_count": 1,
   "metadata": {},
   "outputs": [],
   "source": [
    "import tkinter\n",
    "from tkinter import *"
   ]
  },
  {
   "cell_type": "code",
   "execution_count": 20,
   "metadata": {},
   "outputs": [
    {
     "output_type": "stream",
     "name": "stdout",
     "text": [
      "Hello\n"
     ]
    }
   ],
   "source": [
    "def hello():\n",
    "    print(\"Hello in the terminal ! \")\n",
    "\n",
    "mainapp = Tk()\n",
    "mainapp.title(\"Test App\")\n",
    "\n",
    "#mainapp.geometry(\"800x600\")\n",
    "#mainapp.minsize(640, 480)\n",
    "#mainapp.maxsize(1280, 720)\n",
    "#mainapp.resizable(width=True, height=True)\n",
    "\n",
    "#mainapp.positionfrom(\"user\")\n",
    "#mainapp.sizefrom(\"user\")\n",
    "\n",
    "screen_x = mainapp.winfo_screenwidth()\n",
    "screen_y = mainapp.winfo_screenheight()\n",
    "window_x = 800\n",
    "window_y = 600\n",
    "position_x = (screen_x // 2) - (window_x // 2)\n",
    "position_y = (screen_y // 2) - (window_y // 2)\n",
    "\n",
    "geo = \"{}x{}+{}+{}\".format(window_x, window_y, position_x, position_y)\n",
    "mainapp.geometry(geo)\n",
    "\n",
    "\"\"\"\n",
    "nom_variable = nom_widget(widget_parent, params)\n",
    "\n",
    "\"\"\"\n",
    "\n",
    "label_welcome = Label(mainapp, text=\"Hello\")\n",
    "print(label_welcome.cget(\"text\"))\n",
    "label_welcome.config(text=\"New Message\")\n",
    "label_welcome.pack()\n",
    "\n",
    "message_welcome = Message(mainapp, text=\"Hello hello hello hello hello\")\n",
    "message_welcome.pack()\n",
    "\n",
    "entry_name = Entry(mainapp, width=45, show=\"*\")\n",
    "entry_name.pack()\n",
    "\n",
    "button_quit = Button(mainapp, text=\"OK\", width=25, command=hello)\n",
    "button_quit.pack()\n",
    "\n",
    "check_widget = Checkbutton(mainapp, text=\"Text example\", offvalue=0, onvalue=1)\n",
    "check_widget.pack()\n",
    "\n",
    "radio_widget = Radiobutton(mainapp, text=\"Female\", value=1)\n",
    "radio_widget2 = Radiobutton(mainapp, text=\"Male\", value=0)\n",
    "radio_widget.pack()\n",
    "radio_widget2.pack()\n",
    "\n",
    "scale_w = Scale(mainapp, from_=10, to=100, tickinterval=10)\n",
    "scale_w.pack()\n",
    "\n",
    "spin_w = Spinbox(mainapp, from_=1, to=10)\n",
    "spin_w.pack()\n",
    "\n",
    "list_box = Listbox(mainapp)\n",
    "list_box.insert(1, \"Windows\")\n",
    "list_box.insert(2, \"GNU/Linux\")\n",
    "list_box.insert(3, \"MacOS\")\n",
    "list_box.pack()\n",
    "\n",
    "mainapp.mainloop()\n",
    "#mainapp.quit()"
   ]
  },
  {
   "cell_type": "code",
   "execution_count": 21,
   "metadata": {},
   "outputs": [],
   "source": [
    "import tkinter\n",
    "from tkinter import messagebox\n",
    "\n",
    "\"\"\"\n",
    "showerror\n",
    "showinfo\n",
    "showwarning\n",
    "askquestion\n",
    "askokcancel\n",
    "askyesno\n",
    "askretrycancel\n",
    "\"\"\"\n",
    "\n",
    "def show_modal_window():\n",
    "    messagebox.showerror(\"ERREUR\", \"Un problème est survenu!\")\n",
    "\n",
    "app = Tk()\n",
    "\n",
    "button_error = Button(app, text=\"Déchlencher une erreur\", command= show_modal_window)\n",
    "button_error.pack()\n",
    "\n",
    "app.mainloop()\n"
   ]
  },
  {
   "cell_type": "code",
   "execution_count": 25,
   "metadata": {},
   "outputs": [],
   "source": [
    "import tkinter\n",
    "\n",
    "\"\"\"\n",
    "StringVar(): strings\n",
    "IntVar(): integers\n",
    "DoubleVar(): floats\n",
    "BooleanVar(): booleans\n",
    "\"\"\"\n",
    "\n",
    "app = Tk()\n",
    "app.geometry(\"400x300\")\n",
    "app.title(\"Variables\")\n",
    "\n",
    "var_entry = StringVar()\n",
    "entry = Entry(app, textvariable=var_entry)\n",
    "entry.pack()\n",
    "\n",
    "label = Label(app, textvariable=var_entry)\n",
    "label.pack()\n",
    "\n",
    "\n",
    "app.mainloop()"
   ]
  },
  {
   "cell_type": "code",
   "execution_count": null,
   "metadata": {},
   "outputs": [],
   "source": []
  }
 ]
}